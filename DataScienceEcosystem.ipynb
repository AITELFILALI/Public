{
 "cells": [
  {
   "cell_type": "markdown",
   "id": "b34658c2",
   "metadata": {},
   "source": [
    "# Data Science Tools and Ecosystem"
   ]
  },
  {
   "cell_type": "markdown",
   "id": "748e801f",
   "metadata": {},
   "source": [
    "In this notebook, Data Science Tools and Ecosystem are summarized."
   ]
  },
  {
   "cell_type": "markdown",
   "id": "e7354c93",
   "metadata": {
    "ExecuteTime": {
     "end_time": "2023-06-30T16:04:55.514066Z",
     "start_time": "2023-06-30T16:04:55.501798Z"
    }
   },
   "source": [
    "Objectives:\n",
    "+ List popular languages for Data Science\n",
    "+ List commonly used libraries for Data Science\n",
    "+ List Data Science tools"
   ]
  },
  {
   "cell_type": "markdown",
   "id": "c7504c2c",
   "metadata": {},
   "source": [
    "Some of the popular languages that Data Scientists use are:\n",
    "1. Python\n",
    "2. R\n",
    "3. Scala"
   ]
  },
  {
   "cell_type": "markdown",
   "id": "55924f76",
   "metadata": {},
   "source": [
    "Some of the commonly used libraries used by Data Scientists include:\n",
    "1. Pandas\n",
    "2. TensorFlow\n",
    "3. scikit-learn"
   ]
  },
  {
   "cell_type": "markdown",
   "id": "f842e59d",
   "metadata": {},
   "source": [
    "|Data Science Tools|\n",
    "|-|\n",
    "|Jupyter|\n",
    "|R Studio|\n",
    "|Apache Spark|\n",
    "    "
   ]
  },
  {
   "cell_type": "markdown",
   "id": "afd7bfa7",
   "metadata": {},
   "source": [
    "### Below are a few examples of evaluating arithmetic expressions in Python"
   ]
  },
  {
   "cell_type": "code",
   "execution_count": 7,
   "id": "183ae27a",
   "metadata": {
    "ExecuteTime": {
     "end_time": "2023-06-30T15:59:16.636230Z",
     "start_time": "2023-06-30T15:59:16.623028Z"
    }
   },
   "outputs": [
    {
     "data": {
      "text/plain": [
       "17"
      ]
     },
     "execution_count": 7,
     "metadata": {},
     "output_type": "execute_result"
    }
   ],
   "source": [
    "# This a simple arithmetic expression to mutiply then add integers\n",
    "(3*4)+5"
   ]
  },
  {
   "cell_type": "code",
   "execution_count": 8,
   "id": "eae2b0b7",
   "metadata": {
    "ExecuteTime": {
     "end_time": "2023-06-30T16:01:36.241836Z",
     "start_time": "2023-06-30T16:01:36.236402Z"
    }
   },
   "outputs": [
    {
     "name": "stdout",
     "output_type": "stream",
     "text": [
      "200 minutes is equivalent to 3.33 hours\n"
     ]
    }
   ],
   "source": [
    "# This will convert 200 minutes to hours by diving by 60\n",
    "time_min=200\n",
    "time_h=round(time_min/60, 2)\n",
    "print(f\"{time_min} minutes is equivalent to {time_h} hours\")"
   ]
  },
  {
   "cell_type": "markdown",
   "id": "fb1fbe95",
   "metadata": {},
   "source": [
    "## Author\n",
    "---\n",
    "*Abdelkrim* AIT EL FILALI"
   ]
  },
  {
   "cell_type": "code",
   "execution_count": null,
   "id": "0685be01",
   "metadata": {},
   "outputs": [],
   "source": []
  }
 ],
 "metadata": {
  "kernelspec": {
   "display_name": "Python 3 (ipykernel)",
   "language": "python",
   "name": "python3"
  },
  "language_info": {
   "codemirror_mode": {
    "name": "ipython",
    "version": 3
   },
   "file_extension": ".py",
   "mimetype": "text/x-python",
   "name": "python",
   "nbconvert_exporter": "python",
   "pygments_lexer": "ipython3",
   "version": "3.9.13"
  },
  "toc": {
   "base_numbering": 1,
   "nav_menu": {},
   "number_sections": true,
   "sideBar": true,
   "skip_h1_title": false,
   "title_cell": "Table of Contents",
   "title_sidebar": "Contents",
   "toc_cell": false,
   "toc_position": {},
   "toc_section_display": true,
   "toc_window_display": false
  }
 },
 "nbformat": 4,
 "nbformat_minor": 5
}
